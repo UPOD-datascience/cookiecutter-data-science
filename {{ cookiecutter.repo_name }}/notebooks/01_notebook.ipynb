{
 "cells": [
  {
   "cell_type": "markdown",
   "id": "22462cbc",
   "metadata": {},
   "source": [
    "\n",
    "<h1><img align=\"right\" width=\"20%\" src=\"../multimedia/umc_utrecht.png\"> {{cookiecutter.project_name}} </h1>\n",
    "\n",
    "# 01 - Notebook"
   ]
  },
  {
   "cell_type": "markdown",
   "id": "37ea094b",
   "metadata": {},
   "source": [
    "## Objective\n",
    "This notebook shows...\n",
    "\n",
    "## Preliminaries"
   ]
  },
  {
   "cell_type": "code",
   "execution_count": null,
   "id": "7a69ca67-b435-4b33-a6a1-789bd58491c4",
   "metadata": {},
   "outputs": [],
   "source": [
    "import pandas as pd\n",
    "import pathlib"
   ]
  },
  {
   "cell_type": "code",
   "execution_count": null,
   "id": "afcf2c3e",
   "metadata": {},
   "outputs": [],
   "source": [
    "current_timestamp = pd.Timestamp.now()\n",
    "print(f\"Execution of this notebook started on {current_timestamp}\")"
   ]
  },
  {
   "cell_type": "markdown",
   "id": "8d6a1107",
   "metadata": {},
   "source": [
    "Path definition"
   ]
  },
  {
   "cell_type": "code",
   "execution_count": null,
   "id": "fe481e05",
   "metadata": {},
   "outputs": [],
   "source": [
    "path_data_raw = pathlib.Path('..', 'data', 'raw')\n",
    "path_data_processed = pathlib.Path('..', 'data', 'processed')\n",
    "path_results = pathlib.Path('..', 'results')"
   ]
  },
  {
   "cell_type": "markdown",
   "id": "cf4175cf",
   "metadata": {},
   "source": [
    "## ..."
   ]
  },
  {
   "cell_type": "code",
   "execution_count": null,
   "id": "f779e1c6",
   "metadata": {
    "lines_to_next_cell": 2
   },
   "outputs": [],
   "source": []
  },
  {
   "cell_type": "markdown",
   "id": "5b937c29",
   "metadata": {},
   "source": [
    "## References\n",
    "\n",
    "* ..."
   ]
  },
  {
   "cell_type": "code",
   "execution_count": null,
   "id": "c9a25895",
   "metadata": {},
   "outputs": [],
   "source": [
    "current_timestamp = pd.Timestamp.now()\n",
    "print(f\"Execution of this notebook ended on {current_timestamp}\")"
   ]
  }
 ],
 "metadata": {
  "jupytext": {
   "formats": "ipynb,py:percent"
  },
  "kernelspec": {
   "display_name": "Python 3 (ipykernel)",
   "language": "python",
   "name": "python3"
  },
  "language_info": {
   "codemirror_mode": {
    "name": "ipython",
    "version": 3
   },
   "file_extension": ".py",
   "mimetype": "text/x-python",
   "name": "python",
   "nbconvert_exporter": "python",
   "pygments_lexer": "ipython3",
   "version": "3.11.8"
  }
 },
 "nbformat": 4,
 "nbformat_minor": 5
}
